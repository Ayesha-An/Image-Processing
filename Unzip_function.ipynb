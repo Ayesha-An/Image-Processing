{
 "cells": [
  {
   "cell_type": "code",
   "execution_count": 1,
   "id": "5b6c0423",
   "metadata": {},
   "outputs": [],
   "source": [
    "import os\n",
    "import zipfile"
   ]
  },
  {
   "cell_type": "code",
   "execution_count": 2,
   "id": "c57ced5c",
   "metadata": {},
   "outputs": [],
   "source": [
    "parent_dir='..../Data'"
   ]
  },
  {
   "cell_type": "code",
   "execution_count": 3,
   "id": "f517cb85",
   "metadata": {},
   "outputs": [],
   "source": [
    "directory = 'Unzip'"
   ]
  },
  {
   "cell_type": "code",
   "execution_count": 4,
   "id": "147dc3a1",
   "metadata": {},
   "outputs": [],
   "source": [
    "unzip_path = os . path . join ( parent_dir , directory )"
   ]
  },
  {
   "cell_type": "code",
   "execution_count": 5,
   "id": "13186720",
   "metadata": {},
   "outputs": [],
   "source": [
    "if  not  os . path . exists ( unzip_path ): \n",
    "    os . makedirs ( unzip_path ) "
   ]
  },
  {
   "cell_type": "code",
   "execution_count": 6,
   "id": "1efd9b7b",
   "metadata": {},
   "outputs": [],
   "source": [
    "def unzip ( dir_path1 , dir_path2 ):\n",
    "    \n",
    "    extension = \".zip\"\n",
    "\n",
    "    for item in os . listdir (dir_path1) : # loop through items in dir\n",
    "        \n",
    "        if item . endswith (extension): # check for \".zip\" extension\n",
    "            \n",
    "            file_name = dir_path1  +  \"/\" + item # get full path of files\n",
    "            \n",
    "            zip_ref = zipfile . ZipFile (file_name) # create zipfile object\n",
    "            \n",
    "            zip_ref . extractall (dir_path2) # extract file to dir\n",
    "            \n",
    "            unzip_file = zip_ref . close() # close file\n",
    "            #os.remove(file_name) # delete zipped file\n",
    "            \n",
    "            \n",
    "    return (dir_path2)\n",
    "            "
   ]
  },
  {
   "cell_type": "code",
   "execution_count": 7,
   "id": "3b9a3bee",
   "metadata": {},
   "outputs": [],
   "source": [
    "unzip_dir = unzip(parent_dir , unzip_path)"
   ]
  }
 ],
 "metadata": {
  "kernelspec": {
   "display_name": "Python 3 (ipykernel)",
   "language": "python",
   "name": "python3"
  },
  "language_info": {
   "codemirror_mode": {
    "name": "ipython",
    "version": 3
   },
   "file_extension": ".py",
   "mimetype": "text/x-python",
   "name": "python",
   "nbconvert_exporter": "python",
   "pygments_lexer": "ipython3",
   "version": "3.8.13"
  }
 },
 "nbformat": 4,
 "nbformat_minor": 5
}
