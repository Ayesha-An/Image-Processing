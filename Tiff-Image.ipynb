{
 "cells": [
  {
   "cell_type": "code",
   "execution_count": 4,
   "id": "210dbf51",
   "metadata": {},
   "outputs": [],
   "source": [
    "import rasterio as rio\n",
    "import os\n",
    "import numpy as np"
   ]
  },
  {
   "cell_type": "code",
   "execution_count": 5,
   "id": "2c277b78",
   "metadata": {},
   "outputs": [],
   "source": [
    "from ipynb.fs.full.Unzip_function import unzip #call the function from other jupyter file"
   ]
  },
  {
   "cell_type": "code",
   "execution_count": 6,
   "id": "c9799ad7",
   "metadata": {},
   "outputs": [],
   "source": [
    "parent_dir='path of files'"
   ]
  },
  {
   "cell_type": "code",
   "execution_count": 7,
   "id": "72f1ce84",
   "metadata": {},
   "outputs": [],
   "source": [
    "unzip_path = os . path . join ( parent_dir , 'Unzip' )  #get the file path of \"Unzip\" folder"
   ]
  },
  {
   "cell_type": "code",
   "execution_count": null,
   "id": "21e7edcb",
   "metadata": {},
   "outputs": [],
   "source": [
    "tiff_images_path = os . path . join ( parent_dir , 'Tiff_Images' )#get the file path of \"Tiff_Images\" folder\n",
    "print (tiff_images_path)"
   ]
  },
  {
   "cell_type": "code",
   "execution_count": 12,
   "id": "865269eb",
   "metadata": {},
   "outputs": [],
   "source": [
    "# make the folde if not exist\n",
    "\n",
    "def dir_path(path):\n",
    "    if  not  os . path . exists ( path ): \n",
    "        os . makedirs (path) "
   ]
  },
  {
   "cell_type": "code",
   "execution_count": 13,
   "id": "13093274",
   "metadata": {},
   "outputs": [],
   "source": [
    "dir_path(unzip_path)\n",
    "dir_path(tiff_images_path)"
   ]
  },
  {
   "cell_type": "code",
   "execution_count": 8,
   "id": "bb92dd5d",
   "metadata": {},
   "outputs": [],
   "source": [
    "def tiff_img ( dir_path1 , dir_path2 ):\n",
    "    \n",
    "    subdir1 = 'GRANULE'\n",
    "    subdir2 = 'IMG_DATA/R10m'\n",
    "    dict1={}\n",
    "    \n",
    "    # make the dictionary for each image with image name as key and 3 bands as value\n",
    "    \n",
    "    for i in os.listdir(dir_path1): #get the path of bands by nester for loop\n",
    "        \n",
    "        for j in os.listdir(os.path.join(dir_path1,i,subdir1)):\n",
    "            \n",
    "            for k in [(os.path.join(dir_path1,i,subdir1,j))]:\n",
    "                \n",
    "                for band in os.listdir((os.path.join(dir_path1,i,subdir1,j, k, subdir2))):\n",
    "                    \n",
    "                    if 'B02_10m.jp2' in band:\n",
    "                        dict1[i]= [os.path.join(dir_path1,i,subdir1,j, k, subdir2, band)]\n",
    "\n",
    "                    if 'B03_10m.jp2' in band:\n",
    "                        dict1[i].append(os.path.join(dir_path1,i,subdir1,j, k, subdir2,band))\n",
    "\n",
    "                    if 'B04_10m.jp2' in band:\n",
    "                        dict1[i].append(os.path.join(dir_path1,i,subdir1,j, k, subdir2,band))\n",
    "\n",
    "\n",
    "    #save the images as tiff\n",
    "    \n",
    "    for img, band in dict1.items():\n",
    "        \n",
    "        with rio.open( dir_path2 +'/' + img[:-5] +'.tiff','w',driver='Gtiff', width=rio.open(band[0]).width, \n",
    "                       height=rio.open(band[0]).height,  count=3,crs=rio.open(band[0]).crs,transform=rio.open(band[0]).transform, \n",
    "                       dtype=rio.open(band[0]).dtypes[0]) as rgb:\n",
    "            \n",
    "            rgb.write(rio.open(band[0]).read(1),1) \n",
    "            rgb.write(rio.open(band[1]).read(1),2) \n",
    "            rgb.write(rio.open(band[2]).read(1),3) \n",
    "            rgb.close()\n",
    "            \n",
    "    return (dir_path2)"
   ]
  },
  {
   "cell_type": "code",
   "execution_count": null,
   "id": "4045b65d",
   "metadata": {},
   "outputs": [],
   "source": [
    "#call the tiff_img function and print its return value which is path of a folder\n",
    "    \n",
    "print ( tiff_img (unzip(parent_dir, unzip_path), tiff_images_path))"
   ]
  },
  {
   "cell_type": "code",
   "execution_count": null,
   "id": "c47e4e05",
   "metadata": {},
   "outputs": [],
   "source": []
  }
 ],
 "metadata": {
  "kernelspec": {
   "display_name": "Python 3",
   "language": "python",
   "name": "python3"
  },
  "language_info": {
   "codemirror_mode": {
    "name": "ipython",
    "version": 3
   },
   "file_extension": ".py",
   "mimetype": "text/x-python",
   "name": "python",
   "nbconvert_exporter": "python",
   "pygments_lexer": "ipython3",
   "version": "3.6.13"
  }
 },
 "nbformat": 4,
 "nbformat_minor": 5
}
