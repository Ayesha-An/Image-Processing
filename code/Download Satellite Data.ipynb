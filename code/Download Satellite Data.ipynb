{
 "cells": [
  {
   "cell_type": "code",
   "execution_count": 1,
   "id": "47cb118b",
   "metadata": {},
   "outputs": [],
   "source": [
    "import folium\n",
    "import geopandas as gpd\n",
    "import datetime\n",
    "from collections import OrderedDict\n",
    "from sentinelsat import SentinelAPI, read_geojson, geojson_to_wkt"
   ]
  },
  {
   "cell_type": "code",
   "execution_count": 2,
   "id": "0e9c29c6",
   "metadata": {},
   "outputs": [],
   "source": [
    "api = SentinelAPI('User_Name', 'Password', 'https://apihub.copernicus.eu/apihub/')"
   ]
  },
  {
   "cell_type": "code",
   "execution_count": 3,
   "id": "337c6237",
   "metadata": {},
   "outputs": [],
   "source": [
    "footprint = geojson_to_wkt(read_geojson(r'...\\shape\\study_area.geojson'))"
   ]
  },
  {
   "cell_type": "code",
   "execution_count": null,
   "id": "49063078",
   "metadata": {},
   "outputs": [],
   "source": [
    "products = api.query(footprint,\n",
    "                 date = ('20210101','20210228'),\n",
    "                     platformname='Sentinel-2',\n",
    "                     cloudcoverpercentage=(0, 30))"
   ]
  },
  {
   "cell_type": "code",
   "execution_count": null,
   "id": "24dd54cb",
   "metadata": {},
   "outputs": [],
   "source": [
    "api.download_all(products)"
   ]
  }
 ],
 "metadata": {
  "kernelspec": {
   "display_name": "Python 3",
   "language": "python",
   "name": "python3"
  },
  "language_info": {
   "codemirror_mode": {
    "name": "ipython",
    "version": 3
   },
   "file_extension": ".py",
   "mimetype": "text/x-python",
   "name": "python",
   "nbconvert_exporter": "python",
   "pygments_lexer": "ipython3",
   "version": "3.6.13"
  }
 },
 "nbformat": 4,
 "nbformat_minor": 5
}
